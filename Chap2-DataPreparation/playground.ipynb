{
 "metadata": {
  "language_info": {
   "codemirror_mode": {
    "name": "ipython",
    "version": 3
   },
   "file_extension": ".py",
   "mimetype": "text/x-python",
   "name": "python",
   "nbconvert_exporter": "python",
   "pygments_lexer": "ipython3",
   "version": "3.8.5-final"
  },
  "orig_nbformat": 2,
  "kernelspec": {
   "name": "python3",
   "display_name": "Python 3.8.5 64-bit (conda)",
   "metadata": {
    "interpreter": {
     "hash": "73e03da126b73bfff3642ec5261d56fa25c444ea595de51041687efaa60dda41"
    }
   }
  }
 },
 "nbformat": 4,
 "nbformat_minor": 2,
 "cells": [
  {
   "cell_type": "code",
   "execution_count": 1,
   "metadata": {},
   "outputs": [],
   "source": [
    "import pandas as pd\n",
    "import numpy as np"
   ]
  },
  {
   "cell_type": "code",
   "execution_count": 5,
   "metadata": {},
   "outputs": [],
   "source": [
    "path = r\"D:\\lagua\\CODING\\R-learn\\R-code\\Chap2-DataPreparation\\bankloan.xls\"\n",
    "bankLoan = pd.read_excel(path, header=0)"
   ]
  },
  {
   "cell_type": "code",
   "execution_count": 8,
   "metadata": {},
   "outputs": [
    {
     "output_type": "execute_result",
     "data": {
      "text/plain": [
       "               年龄          教育          工龄          地址          收入         负债率  \\\n",
       "count  700.000000  700.000000  700.000000  700.000000  700.000000  700.000000   \n",
       "mean    34.860000    1.722857    8.388571    8.278571   45.601429   10.260571   \n",
       "std      7.997342    0.928206    6.658039    6.824877   36.814226    6.827234   \n",
       "min     20.000000    1.000000    0.000000    0.000000   14.000000    0.400000   \n",
       "25%     29.000000    1.000000    3.000000    3.000000   24.000000    5.000000   \n",
       "50%     34.000000    1.000000    7.000000    7.000000   34.000000    8.600000   \n",
       "75%     40.000000    2.000000   12.000000   12.000000   55.000000   14.125000   \n",
       "max     56.000000    5.000000   31.000000   34.000000  446.000000   41.300000   \n",
       "\n",
       "            信用卡负债        其他负债          违约  \n",
       "count  700.000000  700.000000  700.000000  \n",
       "mean     1.553553    3.058209    0.261429  \n",
       "std      2.117197    3.287555    0.439727  \n",
       "min      0.011696    0.045584    0.000000  \n",
       "25%      0.369059    1.044178    0.000000  \n",
       "50%      0.854869    1.987568    0.000000  \n",
       "75%      1.901955    3.923065    1.000000  \n",
       "max     20.561310   27.033600    1.000000  "
      ],
      "text/html": "<div>\n<style scoped>\n    .dataframe tbody tr th:only-of-type {\n        vertical-align: middle;\n    }\n\n    .dataframe tbody tr th {\n        vertical-align: top;\n    }\n\n    .dataframe thead th {\n        text-align: right;\n    }\n</style>\n<table border=\"1\" class=\"dataframe\">\n  <thead>\n    <tr style=\"text-align: right;\">\n      <th></th>\n      <th>年龄</th>\n      <th>教育</th>\n      <th>工龄</th>\n      <th>地址</th>\n      <th>收入</th>\n      <th>负债率</th>\n      <th>信用卡负债</th>\n      <th>其他负债</th>\n      <th>违约</th>\n    </tr>\n  </thead>\n  <tbody>\n    <tr>\n      <th>count</th>\n      <td>700.000000</td>\n      <td>700.000000</td>\n      <td>700.000000</td>\n      <td>700.000000</td>\n      <td>700.000000</td>\n      <td>700.000000</td>\n      <td>700.000000</td>\n      <td>700.000000</td>\n      <td>700.000000</td>\n    </tr>\n    <tr>\n      <th>mean</th>\n      <td>34.860000</td>\n      <td>1.722857</td>\n      <td>8.388571</td>\n      <td>8.278571</td>\n      <td>45.601429</td>\n      <td>10.260571</td>\n      <td>1.553553</td>\n      <td>3.058209</td>\n      <td>0.261429</td>\n    </tr>\n    <tr>\n      <th>std</th>\n      <td>7.997342</td>\n      <td>0.928206</td>\n      <td>6.658039</td>\n      <td>6.824877</td>\n      <td>36.814226</td>\n      <td>6.827234</td>\n      <td>2.117197</td>\n      <td>3.287555</td>\n      <td>0.439727</td>\n    </tr>\n    <tr>\n      <th>min</th>\n      <td>20.000000</td>\n      <td>1.000000</td>\n      <td>0.000000</td>\n      <td>0.000000</td>\n      <td>14.000000</td>\n      <td>0.400000</td>\n      <td>0.011696</td>\n      <td>0.045584</td>\n      <td>0.000000</td>\n    </tr>\n    <tr>\n      <th>25%</th>\n      <td>29.000000</td>\n      <td>1.000000</td>\n      <td>3.000000</td>\n      <td>3.000000</td>\n      <td>24.000000</td>\n      <td>5.000000</td>\n      <td>0.369059</td>\n      <td>1.044178</td>\n      <td>0.000000</td>\n    </tr>\n    <tr>\n      <th>50%</th>\n      <td>34.000000</td>\n      <td>1.000000</td>\n      <td>7.000000</td>\n      <td>7.000000</td>\n      <td>34.000000</td>\n      <td>8.600000</td>\n      <td>0.854869</td>\n      <td>1.987568</td>\n      <td>0.000000</td>\n    </tr>\n    <tr>\n      <th>75%</th>\n      <td>40.000000</td>\n      <td>2.000000</td>\n      <td>12.000000</td>\n      <td>12.000000</td>\n      <td>55.000000</td>\n      <td>14.125000</td>\n      <td>1.901955</td>\n      <td>3.923065</td>\n      <td>1.000000</td>\n    </tr>\n    <tr>\n      <th>max</th>\n      <td>56.000000</td>\n      <td>5.000000</td>\n      <td>31.000000</td>\n      <td>34.000000</td>\n      <td>446.000000</td>\n      <td>41.300000</td>\n      <td>20.561310</td>\n      <td>27.033600</td>\n      <td>1.000000</td>\n    </tr>\n  </tbody>\n</table>\n</div>"
     },
     "metadata": {},
     "execution_count": 8
    }
   ],
   "source": [
    "bankLoan.describe()"
   ]
  },
  {
   "cell_type": "code",
   "execution_count": 10,
   "metadata": {},
   "outputs": [
    {
     "output_type": "execute_result",
     "data": {
      "text/plain": [
       "Index(['年龄', '教育', '工龄', '地址', '收入', '负债率', '信用卡负债', '其他负债', '违约'], dtype='object')"
      ]
     },
     "metadata": {},
     "execution_count": 10
    }
   ],
   "source": [
    "bankLoan.columns"
   ]
  }
 ]
}